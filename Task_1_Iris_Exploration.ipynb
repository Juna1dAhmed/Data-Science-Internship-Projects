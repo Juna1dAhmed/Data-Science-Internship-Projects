{
 "cells": [
  {
   "cell_type": "markdown",
   "id": "ea0b8f04",
   "metadata": {},
   "source": [
    "# Task 1: Exploring and Visualizing the Iris Dataset\n",
    "### Problem Statement\n",
    "Perform exploratory data analysis and visualization on the Iris dataset to understand relationships between different features.\n"
   ]
  },
  {
   "cell_type": "markdown",
   "id": "092c105c",
   "metadata": {},
   "source": [
    "### Step 1: Import Libraries"
   ]
  },
  {
   "cell_type": "code",
   "execution_count": null,
   "id": "f6ad37b1",
   "metadata": {},
   "outputs": [],
   "source": [
    "import pandas as pd\n",
    "import seaborn as sns\n",
    "import matplotlib.pyplot as plt\n"
   ]
  },
  {
   "cell_type": "markdown",
   "id": "8ae1a99c",
   "metadata": {},
   "source": [
    "### Step 2: Load the Dataset"
   ]
  },
  {
   "cell_type": "code",
   "execution_count": null,
   "id": "1ce10091",
   "metadata": {},
   "outputs": [],
   "source": [
    "df = sns.load_dataset('iris')\n",
    "df.head()"
   ]
  },
  {
   "cell_type": "markdown",
   "id": "812eb044",
   "metadata": {},
   "source": [
    "### Step 3: Dataset Summary"
   ]
  },
  {
   "cell_type": "code",
   "execution_count": null,
   "id": "faa33bab",
   "metadata": {},
   "outputs": [],
   "source": [
    "print('Shape:', df.shape)\n",
    "print('Columns:', df.columns.tolist())\n",
    "df.describe()"
   ]
  },
  {
   "cell_type": "markdown",
   "id": "238a92c0",
   "metadata": {},
   "source": [
    "### Step 4: Visualizations"
   ]
  },
  {
   "cell_type": "code",
   "execution_count": null,
   "id": "638fe99e",
   "metadata": {},
   "outputs": [],
   "source": [
    "# Scatter plot\n",
    "sns.pairplot(df, hue='species')\n",
    "plt.show()"
   ]
  },
  {
   "cell_type": "code",
   "execution_count": null,
   "id": "7967ff22",
   "metadata": {},
   "outputs": [],
   "source": [
    "# Histogram\n",
    "df.hist(figsize=(10, 6))\n",
    "plt.tight_layout()\n",
    "plt.show()"
   ]
  },
  {
   "cell_type": "code",
   "execution_count": null,
   "id": "8978afa5",
   "metadata": {},
   "outputs": [],
   "source": [
    "# Box plot\n",
    "plt.figure(figsize=(10, 6))\n",
    "sns.boxplot(data=df)\n",
    "plt.xticks(rotation=45)\n",
    "plt.show()"
   ]
  },
  {
   "cell_type": "markdown",
   "id": "6101325c",
   "metadata": {},
   "source": [
    "### Conclusion\n",
    "The Iris dataset shows clear separation between species across different features, especially petal length and width."
   ]
  }
 ],
 "metadata": {},
 "nbformat": 4,
 "nbformat_minor": 5
}
