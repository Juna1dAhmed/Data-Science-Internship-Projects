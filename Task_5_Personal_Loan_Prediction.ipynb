{
 "cells": [
  {
   "cell_type": "markdown",
   "id": "ada821c1",
   "metadata": {},
   "source": [
    "# Task 5: Personal Loan Acceptance Prediction\n",
    "### Problem Statement\n",
    "Predict which customers are likely to accept a personal loan offer using demographic and marketing data.\n"
   ]
  },
  {
   "cell_type": "markdown",
   "id": "3984d826",
   "metadata": {},
   "source": [
    "### Dataset\n",
    "[Bank Marketing Dataset - UCI Repository](https://archive.ics.uci.edu/ml/datasets/bank+marketing)"
   ]
  },
  {
   "cell_type": "markdown",
   "id": "af66031f",
   "metadata": {},
   "source": [
    "### Step 1: Import Libraries"
   ]
  },
  {
   "cell_type": "code",
   "execution_count": null,
   "id": "1bc33de7",
   "metadata": {},
   "outputs": [],
   "source": [
    "import pandas as pd\n",
    "import seaborn as sns\n",
    "import matplotlib.pyplot as plt\n",
    "from sklearn.model_selection import train_test_split\n",
    "from sklearn.preprocessing import LabelEncoder\n",
    "from sklearn.tree import DecisionTreeClassifier\n",
    "from sklearn.metrics import accuracy_score, confusion_matrix\n"
   ]
  },
  {
   "cell_type": "markdown",
   "id": "6eafde94",
   "metadata": {},
   "source": [
    "### Step 2: Load Dataset"
   ]
  },
  {
   "cell_type": "code",
   "execution_count": null,
   "id": "f61f46ef",
   "metadata": {},
   "outputs": [],
   "source": [
    "df = pd.read_csv('https://archive.ics.uci.edu/ml/machine-learning-databases/00222/bank.csv', sep=';')\n",
    "df.head()"
   ]
  },
  {
   "cell_type": "markdown",
   "id": "193d248b",
   "metadata": {},
   "source": [
    "### Step 3: Encode Categorical Data"
   ]
  },
  {
   "cell_type": "code",
   "execution_count": null,
   "id": "4f024841",
   "metadata": {},
   "outputs": [],
   "source": [
    "le = LabelEncoder()\n",
    "for col in df.select_dtypes('object').columns:\n",
    "    df[col] = le.fit_transform(df[col])"
   ]
  },
  {
   "cell_type": "markdown",
   "id": "35130109",
   "metadata": {},
   "source": [
    "### Step 4: Train Model"
   ]
  },
  {
   "cell_type": "code",
   "execution_count": null,
   "id": "c25df96a",
   "metadata": {},
   "outputs": [],
   "source": [
    "X = df.drop(columns='y')\n",
    "y = df['y']\n",
    "X_train, X_test, y_train, y_test = train_test_split(X, y, test_size=0.2)\n",
    "clf = DecisionTreeClassifier()\n",
    "clf.fit(X_train, y_train)"
   ]
  },
  {
   "cell_type": "markdown",
   "id": "84e08053",
   "metadata": {},
   "source": [
    "### Step 5: Evaluation"
   ]
  },
  {
   "cell_type": "code",
   "execution_count": null,
   "id": "7664c3ee",
   "metadata": {},
   "outputs": [],
   "source": [
    "y_pred = clf.predict(X_test)\n",
    "print('Accuracy:', accuracy_score(y_test, y_pred))\n",
    "print('Confusion Matrix:\\n', confusion_matrix(y_test, y_pred))"
   ]
  }
 ],
 "metadata": {},
 "nbformat": 4,
 "nbformat_minor": 5
}
