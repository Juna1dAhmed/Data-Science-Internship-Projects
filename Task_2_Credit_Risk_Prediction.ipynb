{
 "cells": [
  {
   "cell_type": "markdown",
   "id": "b44692fb",
   "metadata": {},
   "source": [
    "# Task 2: Credit Risk Prediction\n",
    "### Problem Statement\n",
    "Build a classification model to predict loan default likelihood based on applicant information.\n"
   ]
  },
  {
   "cell_type": "markdown",
   "id": "c877ecf3",
   "metadata": {},
   "source": [
    "### Dataset\n",
    "[Loan Prediction Dataset from Kaggle](https://www.kaggle.com/datasets/altruistdelhite04/loan-prediction-problem-dataset)"
   ]
  },
  {
   "cell_type": "markdown",
   "id": "5c7da7bb",
   "metadata": {},
   "source": [
    "### Step 1: Import Libraries"
   ]
  },
  {
   "cell_type": "code",
   "execution_count": null,
   "id": "a9bec247",
   "metadata": {},
   "outputs": [],
   "source": [
    "import pandas as pd\n",
    "import seaborn as sns\n",
    "import matplotlib.pyplot as plt\n",
    "from sklearn.model_selection import train_test_split\n",
    "from sklearn.preprocessing import LabelEncoder\n",
    "from sklearn.linear_model import LogisticRegression\n",
    "from sklearn.metrics import accuracy_score, confusion_matrix\n"
   ]
  },
  {
   "cell_type": "markdown",
   "id": "68e65438",
   "metadata": {},
   "source": [
    "### Step 2: Load Dataset"
   ]
  },
  {
   "cell_type": "code",
   "execution_count": null,
   "id": "696510db",
   "metadata": {},
   "outputs": [],
   "source": [
    "df = pd.read_csv('/content/train_u6lujuX_CVtuZ9i.csv')\n",
    "df.head()"
   ]
  },
  {
   "cell_type": "markdown",
   "id": "bfbd5538",
   "metadata": {},
   "source": [
    "### Step 3: Handle Missing Values"
   ]
  },
  {
   "cell_type": "code",
   "execution_count": null,
   "id": "4e55f91a",
   "metadata": {},
   "outputs": [],
   "source": [
    "df.fillna(method='ffill', inplace=True)"
   ]
  },
  {
   "cell_type": "markdown",
   "id": "2b6e2420",
   "metadata": {},
   "source": [
    "### Step 4: Encode Categorical Columns"
   ]
  },
  {
   "cell_type": "code",
   "execution_count": null,
   "id": "847905d2",
   "metadata": {},
   "outputs": [],
   "source": [
    "le = LabelEncoder()\n",
    "for col in df.select_dtypes('object').columns:\n",
    "    df[col] = le.fit_transform(df[col])"
   ]
  },
  {
   "cell_type": "markdown",
   "id": "b2dedebc",
   "metadata": {},
   "source": [
    "### Step 5: Visualization"
   ]
  },
  {
   "cell_type": "code",
   "execution_count": null,
   "id": "1ec13c3c",
   "metadata": {},
   "outputs": [],
   "source": [
    "sns.boxplot(x='Loan_Status', y='ApplicantIncome', data=df)\n",
    "plt.show()"
   ]
  },
  {
   "cell_type": "markdown",
   "id": "68aa2ae1",
   "metadata": {},
   "source": [
    "### Step 6: Train Model"
   ]
  },
  {
   "cell_type": "code",
   "execution_count": null,
   "id": "ba6dcdf9",
   "metadata": {},
   "outputs": [],
   "source": [
    "X = df.drop(columns=['Loan_ID', 'Loan_Status'])\n",
    "y = df['Loan_Status']\n",
    "X_train, X_test, y_train, y_test = train_test_split(X, y, test_size=0.2)\n",
    "model = LogisticRegression(max_iter=1000)\n",
    "model.fit(X_train, y_train)"
   ]
  },
  {
   "cell_type": "markdown",
   "id": "78e0d68a",
   "metadata": {},
   "source": [
    "### Step 7: Evaluation"
   ]
  },
  {
   "cell_type": "code",
   "execution_count": null,
   "id": "b891b348",
   "metadata": {},
   "outputs": [],
   "source": [
    "y_pred = model.predict(X_test)\n",
    "print('Accuracy:', accuracy_score(y_test, y_pred))\n",
    "print('Confusion Matrix:\\n', confusion_matrix(y_test, y_pred))"
   ]
  }
 ],
 "metadata": {},
 "nbformat": 4,
 "nbformat_minor": 5
}
